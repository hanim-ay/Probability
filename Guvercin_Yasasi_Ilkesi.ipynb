{
  "nbformat": 4,
  "nbformat_minor": 0,
  "metadata": {
    "colab": {
      "name": "Guvercin_Yasasi_Ilkesi.ipynb",
      "provenance": [],
      "authorship_tag": "ABX9TyMLe3q7beAbL0bPC7wtav6/",
      "include_colab_link": true
    },
    "kernelspec": {
      "name": "python3",
      "display_name": "Python 3"
    },
    "language_info": {
      "name": "python"
    }
  },
  "cells": [
    {
      "cell_type": "markdown",
      "metadata": {
        "id": "view-in-github",
        "colab_type": "text"
      },
      "source": [
        "<a href=\"https://colab.research.google.com/github/hanim-ay/Probability/blob/main/Guvercin_Yasasi_Ilkesi.ipynb\" target=\"_parent\"><img src=\"https://colab.research.google.com/assets/colab-badge.svg\" alt=\"Open In Colab\"/></a>"
      ]
    },
    {
      "cell_type": "markdown",
      "source": [
        "**Güvercin Yasası İlkesi**"
      ],
      "metadata": {
        "id": "GEXhGklsj579"
      }
    },
    {
      "cell_type": "markdown",
      "source": [
        "Prensip basit şekliyle, Dirichlet güvercin yuvası prensibi olarak bilinir ve eğer n+1 güvercin n\n",
        "adet yuvaya yerleştirilecek olursa en az bir yuvada birden fazla güvercin olacaktır. Tersi eğer n\n",
        "güvercin n+1 yuvaya koyulacak olursa en az bir yuva boş kalacaktır.\n",
        "\n",
        "Prensibin daha genel hali ise, eğer k.n+1 veya daha fazla güvercin, n yuvaya koyulacak olursa,\n",
        "en az bir yuvada k dan fazla güvercin olacaktır. "
      ],
      "metadata": {
        "id": "6lpzVoQukCHL"
      }
    },
    {
      "cell_type": "markdown",
      "source": [
        "**Örnek:**\n",
        "\n",
        "Bir kampüste 18 adet oturma salonu bulunmaktadır. Öğrenci dekanı, bir salondaki\n",
        "bilgisayar kullanımını anlamak için anket yapmak amacıyla seçeceği salondan 5 kişilik öğrenci komitesi oluşturmak ister ve salonlara duyurular asar. En az kaç kişi bu ankete cevap vermelidir ki, dekan bir salon seçip komite oluşturabilsin.\n",
        "\n",
        "\n",
        "**Çözüm:**\n",
        "\n",
        "Genel güvercin yuvası prensibi gereği, k=4 olur ve k.n+1 = 4.18 +1= 73 \n",
        "\n"
      ],
      "metadata": {
        "id": "rbBzJqBlkXE2"
      }
    },
    {
      "cell_type": "code",
      "execution_count": null,
      "metadata": {
        "colab": {
          "base_uri": "https://localhost:8080/"
        },
        "id": "S0sqiz4rj5QK",
        "outputId": "b30c87c1-3ab6-4f3f-fe7c-d2225cef772f"
      },
      "outputs": [
        {
          "output_type": "stream",
          "name": "stdout",
          "text": [
            "73\n"
          ]
        }
      ],
      "source": [
        "k=4\n",
        "n=18\n",
        "sonuc=k*n+1\n",
        "print(sonuc)\n"
      ]
    }
  ]
}